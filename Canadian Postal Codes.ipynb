{
 "cells": [
  {
   "cell_type": "markdown",
   "metadata": {},
   "source": [
    "<h1 style='text-align: center'>Postal Codes of Canada : M</h1>"
   ]
  },
  {
   "cell_type": "code",
   "execution_count": 1,
   "metadata": {},
   "outputs": [],
   "source": [
    "import pandas as pd\n",
    "import numpy as np\n",
    "\n",
    "import matplotlib.pyplot as plt\n",
    "import matplotlib.cm as cm\n",
    "import matplotlib.colors as colors\n",
    "import seaborn as sns\n",
    "import folium\n",
    "\n",
    "from sklearn.cluster import KMeans\n",
    "\n",
    "import requests\n",
    "from bs4 import BeautifulSoup"
   ]
  },
  {
   "cell_type": "code",
   "execution_count": 2,
   "metadata": {},
   "outputs": [],
   "source": [
    "from utils.nearby_venues import getNearbyVenues"
   ]
  },
  {
   "cell_type": "markdown",
   "metadata": {},
   "source": [
    "## 1. Get Data from Wikipedia"
   ]
  },
  {
   "cell_type": "markdown",
   "metadata": {},
   "source": [
    "##### Request the URL, extract the text from it, and transform it to a BeautifulSoup object"
   ]
  },
  {
   "cell_type": "code",
   "execution_count": 3,
   "metadata": {},
   "outputs": [],
   "source": [
    "url = 'https://en.wikipedia.org/wiki/List_of_postal_codes_of_Canada:_M'\n",
    "txt = requests.get(url).text\n",
    "soup = BeautifulSoup(txt)"
   ]
  },
  {
   "cell_type": "markdown",
   "metadata": {},
   "source": [
    "##### Find the &lt;table&gt; tag and from it, extract all &lt;table&gt;s"
   ]
  },
  {
   "cell_type": "code",
   "execution_count": 4,
   "metadata": {},
   "outputs": [],
   "source": [
    "tds = soup.find('table').find_all('td')"
   ]
  },
  {
   "cell_type": "markdown",
   "metadata": {},
   "source": [
    "##### Only process the cells that have an assigned borough. Ignore cells with a borough that is Not assigned."
   ]
  },
  {
   "cell_type": "code",
   "execution_count": 5,
   "metadata": {},
   "outputs": [],
   "source": [
    "tds = [td for td in tds if not 'Not assigned' in td.text]"
   ]
  },
  {
   "cell_type": "markdown",
   "metadata": {},
   "source": [
    "##### The dataframe will consist of three columns: PostalCode, Borough, and Neighborhood"
   ]
  },
  {
   "cell_type": "code",
   "execution_count": 6,
   "metadata": {},
   "outputs": [],
   "source": [
    "postalcode = [td.find('b').text for td in tds]\n",
    "boroughs = [td.find('span').text for td in tds]"
   ]
  },
  {
   "cell_type": "code",
   "execution_count": 7,
   "metadata": {},
   "outputs": [],
   "source": [
    "df = pd.DataFrame(\n",
    "    {'PostalCode': postalcode,\n",
    "     'Borough': boroughs}\n",
    ")"
   ]
  },
  {
   "cell_type": "markdown",
   "metadata": {},
   "source": [
    "##### Boroughs and Neighborhoods are mixed. But we can extract them by splitting with '('"
   ]
  },
  {
   "cell_type": "code",
   "execution_count": 8,
   "metadata": {},
   "outputs": [],
   "source": [
    "temp = df['Borough'].str.split('(', expand=True)[[0, 1]]\n",
    "df[['Borough', 'Neighborhood']] = temp[[0, 1]]"
   ]
  },
  {
   "cell_type": "code",
   "execution_count": 9,
   "metadata": {},
   "outputs": [
    {
     "data": {
      "text/html": [
       "<div>\n",
       "<style scoped>\n",
       "    .dataframe tbody tr th:only-of-type {\n",
       "        vertical-align: middle;\n",
       "    }\n",
       "\n",
       "    .dataframe tbody tr th {\n",
       "        vertical-align: top;\n",
       "    }\n",
       "\n",
       "    .dataframe thead th {\n",
       "        text-align: right;\n",
       "    }\n",
       "</style>\n",
       "<table border=\"1\" class=\"dataframe\">\n",
       "  <thead>\n",
       "    <tr style=\"text-align: right;\">\n",
       "      <th></th>\n",
       "      <th>PostalCode</th>\n",
       "      <th>Borough</th>\n",
       "      <th>Neighborhood</th>\n",
       "    </tr>\n",
       "  </thead>\n",
       "  <tbody>\n",
       "    <tr>\n",
       "      <th>0</th>\n",
       "      <td>M3A</td>\n",
       "      <td>North York</td>\n",
       "      <td>Parkwoods)</td>\n",
       "    </tr>\n",
       "    <tr>\n",
       "      <th>1</th>\n",
       "      <td>M4A</td>\n",
       "      <td>North York</td>\n",
       "      <td>Victoria Village)</td>\n",
       "    </tr>\n",
       "    <tr>\n",
       "      <th>2</th>\n",
       "      <td>M5A</td>\n",
       "      <td>Downtown Toronto</td>\n",
       "      <td>Regent Park / Harbourfront)</td>\n",
       "    </tr>\n",
       "    <tr>\n",
       "      <th>3</th>\n",
       "      <td>M6A</td>\n",
       "      <td>North York</td>\n",
       "      <td>Lawrence Manor / Lawrence Heights)</td>\n",
       "    </tr>\n",
       "    <tr>\n",
       "      <th>4</th>\n",
       "      <td>M7A</td>\n",
       "      <td>Queen's Park / Ontario Provincial Government</td>\n",
       "      <td>None</td>\n",
       "    </tr>\n",
       "  </tbody>\n",
       "</table>\n",
       "</div>"
      ],
      "text/plain": [
       "  PostalCode                                       Borough  \\\n",
       "0        M3A                                    North York   \n",
       "1        M4A                                    North York   \n",
       "2        M5A                              Downtown Toronto   \n",
       "3        M6A                                    North York   \n",
       "4        M7A  Queen's Park / Ontario Provincial Government   \n",
       "\n",
       "                         Neighborhood  \n",
       "0                          Parkwoods)  \n",
       "1                   Victoria Village)  \n",
       "2         Regent Park / Harbourfront)  \n",
       "3  Lawrence Manor / Lawrence Heights)  \n",
       "4                                None  "
      ]
     },
     "execution_count": 9,
     "metadata": {},
     "output_type": "execute_result"
    }
   ],
   "source": [
    "df.head()"
   ]
  },
  {
   "cell_type": "markdown",
   "metadata": {},
   "source": [
    "##### Neighborhoods are separated with a comma"
   ]
  },
  {
   "cell_type": "code",
   "execution_count": 10,
   "metadata": {},
   "outputs": [],
   "source": [
    "df['Neighborhood'] = df['Neighborhood'].str.replace(' / ', ', ')"
   ]
  },
  {
   "cell_type": "markdown",
   "metadata": {},
   "source": [
    "##### If a cell has a borough but a Not assigned neighborhood, then the neighborhood will be the same as the borough."
   ]
  },
  {
   "cell_type": "code",
   "execution_count": 11,
   "metadata": {},
   "outputs": [],
   "source": [
    "df['Neighborhood'] = df['Neighborhood'].fillna(df['Borough'])"
   ]
  },
  {
   "cell_type": "code",
   "execution_count": 12,
   "metadata": {},
   "outputs": [],
   "source": [
    "condition = df['Neighborhood'].str.endswith(')')\n",
    "df.loc[condition, 'Neighborhood'] = df.loc[condition, 'Neighborhood'].str[:-1]"
   ]
  },
  {
   "cell_type": "code",
   "execution_count": 13,
   "metadata": {},
   "outputs": [
    {
     "data": {
      "text/html": [
       "<div>\n",
       "<style scoped>\n",
       "    .dataframe tbody tr th:only-of-type {\n",
       "        vertical-align: middle;\n",
       "    }\n",
       "\n",
       "    .dataframe tbody tr th {\n",
       "        vertical-align: top;\n",
       "    }\n",
       "\n",
       "    .dataframe thead th {\n",
       "        text-align: right;\n",
       "    }\n",
       "</style>\n",
       "<table border=\"1\" class=\"dataframe\">\n",
       "  <thead>\n",
       "    <tr style=\"text-align: right;\">\n",
       "      <th></th>\n",
       "      <th>PostalCode</th>\n",
       "      <th>Borough</th>\n",
       "      <th>Neighborhood</th>\n",
       "    </tr>\n",
       "  </thead>\n",
       "  <tbody>\n",
       "    <tr>\n",
       "      <th>0</th>\n",
       "      <td>M3A</td>\n",
       "      <td>North York</td>\n",
       "      <td>Parkwoods</td>\n",
       "    </tr>\n",
       "    <tr>\n",
       "      <th>1</th>\n",
       "      <td>M4A</td>\n",
       "      <td>North York</td>\n",
       "      <td>Victoria Village</td>\n",
       "    </tr>\n",
       "    <tr>\n",
       "      <th>2</th>\n",
       "      <td>M5A</td>\n",
       "      <td>Downtown Toronto</td>\n",
       "      <td>Regent Park, Harbourfront</td>\n",
       "    </tr>\n",
       "    <tr>\n",
       "      <th>3</th>\n",
       "      <td>M6A</td>\n",
       "      <td>North York</td>\n",
       "      <td>Lawrence Manor, Lawrence Heights</td>\n",
       "    </tr>\n",
       "    <tr>\n",
       "      <th>4</th>\n",
       "      <td>M7A</td>\n",
       "      <td>Queen's Park / Ontario Provincial Government</td>\n",
       "      <td>Queen's Park / Ontario Provincial Government</td>\n",
       "    </tr>\n",
       "  </tbody>\n",
       "</table>\n",
       "</div>"
      ],
      "text/plain": [
       "  PostalCode                                       Borough  \\\n",
       "0        M3A                                    North York   \n",
       "1        M4A                                    North York   \n",
       "2        M5A                              Downtown Toronto   \n",
       "3        M6A                                    North York   \n",
       "4        M7A  Queen's Park / Ontario Provincial Government   \n",
       "\n",
       "                                   Neighborhood  \n",
       "0                                     Parkwoods  \n",
       "1                              Victoria Village  \n",
       "2                     Regent Park, Harbourfront  \n",
       "3              Lawrence Manor, Lawrence Heights  \n",
       "4  Queen's Park / Ontario Provincial Government  "
      ]
     },
     "execution_count": 13,
     "metadata": {},
     "output_type": "execute_result"
    }
   ],
   "source": [
    "df.head()"
   ]
  },
  {
   "cell_type": "code",
   "execution_count": 14,
   "metadata": {},
   "outputs": [
    {
     "data": {
      "text/plain": [
       "Borough                  Downtown Toronto\n",
       "Neighborhood    Regent Park, Harbourfront\n",
       "Name: M5A, dtype: object"
      ]
     },
     "execution_count": 14,
     "metadata": {},
     "output_type": "execute_result"
    }
   ],
   "source": [
    "df.set_index('PostalCode').loc['M5A']"
   ]
  },
  {
   "cell_type": "code",
   "execution_count": 15,
   "metadata": {},
   "outputs": [
    {
     "data": {
      "text/plain": [
       "(103, 3)"
      ]
     },
     "execution_count": 15,
     "metadata": {},
     "output_type": "execute_result"
    }
   ],
   "source": [
    "df.shape"
   ]
  },
  {
   "cell_type": "markdown",
   "metadata": {},
   "source": [
    "## 2. Adding geolocation"
   ]
  },
  {
   "cell_type": "markdown",
   "metadata": {},
   "source": [
    "##### Reading the geolocation data from web"
   ]
  },
  {
   "cell_type": "code",
   "execution_count": 16,
   "metadata": {},
   "outputs": [],
   "source": [
    "geoloc = pd.read_csv(\n",
    "    'http://cocl.us/Geospatial_data',\n",
    "    names=['PostalCode', 'latitude', 'longitude'],\n",
    "    header=0\n",
    ")"
   ]
  },
  {
   "cell_type": "code",
   "execution_count": 17,
   "metadata": {},
   "outputs": [
    {
     "data": {
      "text/html": [
       "<div>\n",
       "<style scoped>\n",
       "    .dataframe tbody tr th:only-of-type {\n",
       "        vertical-align: middle;\n",
       "    }\n",
       "\n",
       "    .dataframe tbody tr th {\n",
       "        vertical-align: top;\n",
       "    }\n",
       "\n",
       "    .dataframe thead th {\n",
       "        text-align: right;\n",
       "    }\n",
       "</style>\n",
       "<table border=\"1\" class=\"dataframe\">\n",
       "  <thead>\n",
       "    <tr style=\"text-align: right;\">\n",
       "      <th></th>\n",
       "      <th>PostalCode</th>\n",
       "      <th>latitude</th>\n",
       "      <th>longitude</th>\n",
       "    </tr>\n",
       "  </thead>\n",
       "  <tbody>\n",
       "    <tr>\n",
       "      <th>0</th>\n",
       "      <td>M1B</td>\n",
       "      <td>43.806686</td>\n",
       "      <td>-79.194353</td>\n",
       "    </tr>\n",
       "    <tr>\n",
       "      <th>1</th>\n",
       "      <td>M1C</td>\n",
       "      <td>43.784535</td>\n",
       "      <td>-79.160497</td>\n",
       "    </tr>\n",
       "    <tr>\n",
       "      <th>2</th>\n",
       "      <td>M1E</td>\n",
       "      <td>43.763573</td>\n",
       "      <td>-79.188711</td>\n",
       "    </tr>\n",
       "    <tr>\n",
       "      <th>3</th>\n",
       "      <td>M1G</td>\n",
       "      <td>43.770992</td>\n",
       "      <td>-79.216917</td>\n",
       "    </tr>\n",
       "    <tr>\n",
       "      <th>4</th>\n",
       "      <td>M1H</td>\n",
       "      <td>43.773136</td>\n",
       "      <td>-79.239476</td>\n",
       "    </tr>\n",
       "  </tbody>\n",
       "</table>\n",
       "</div>"
      ],
      "text/plain": [
       "  PostalCode   latitude  longitude\n",
       "0        M1B  43.806686 -79.194353\n",
       "1        M1C  43.784535 -79.160497\n",
       "2        M1E  43.763573 -79.188711\n",
       "3        M1G  43.770992 -79.216917\n",
       "4        M1H  43.773136 -79.239476"
      ]
     },
     "execution_count": 17,
     "metadata": {},
     "output_type": "execute_result"
    }
   ],
   "source": [
    "geoloc.head()"
   ]
  },
  {
   "cell_type": "markdown",
   "metadata": {},
   "source": [
    "##### Merging the geolocation dataset with our postal codes dataframe"
   ]
  },
  {
   "cell_type": "code",
   "execution_count": 18,
   "metadata": {},
   "outputs": [],
   "source": [
    "df = pd.merge(df, geoloc, on='PostalCode', how='left')"
   ]
  },
  {
   "cell_type": "code",
   "execution_count": 19,
   "metadata": {},
   "outputs": [
    {
     "data": {
      "text/html": [
       "<div>\n",
       "<style scoped>\n",
       "    .dataframe tbody tr th:only-of-type {\n",
       "        vertical-align: middle;\n",
       "    }\n",
       "\n",
       "    .dataframe tbody tr th {\n",
       "        vertical-align: top;\n",
       "    }\n",
       "\n",
       "    .dataframe thead th {\n",
       "        text-align: right;\n",
       "    }\n",
       "</style>\n",
       "<table border=\"1\" class=\"dataframe\">\n",
       "  <thead>\n",
       "    <tr style=\"text-align: right;\">\n",
       "      <th></th>\n",
       "      <th>PostalCode</th>\n",
       "      <th>Borough</th>\n",
       "      <th>Neighborhood</th>\n",
       "      <th>latitude</th>\n",
       "      <th>longitude</th>\n",
       "    </tr>\n",
       "  </thead>\n",
       "  <tbody>\n",
       "    <tr>\n",
       "      <th>0</th>\n",
       "      <td>M3A</td>\n",
       "      <td>North York</td>\n",
       "      <td>Parkwoods</td>\n",
       "      <td>43.753259</td>\n",
       "      <td>-79.329656</td>\n",
       "    </tr>\n",
       "    <tr>\n",
       "      <th>1</th>\n",
       "      <td>M4A</td>\n",
       "      <td>North York</td>\n",
       "      <td>Victoria Village</td>\n",
       "      <td>43.725882</td>\n",
       "      <td>-79.315572</td>\n",
       "    </tr>\n",
       "    <tr>\n",
       "      <th>2</th>\n",
       "      <td>M5A</td>\n",
       "      <td>Downtown Toronto</td>\n",
       "      <td>Regent Park, Harbourfront</td>\n",
       "      <td>43.654260</td>\n",
       "      <td>-79.360636</td>\n",
       "    </tr>\n",
       "    <tr>\n",
       "      <th>3</th>\n",
       "      <td>M6A</td>\n",
       "      <td>North York</td>\n",
       "      <td>Lawrence Manor, Lawrence Heights</td>\n",
       "      <td>43.718518</td>\n",
       "      <td>-79.464763</td>\n",
       "    </tr>\n",
       "    <tr>\n",
       "      <th>4</th>\n",
       "      <td>M7A</td>\n",
       "      <td>Queen's Park / Ontario Provincial Government</td>\n",
       "      <td>Queen's Park / Ontario Provincial Government</td>\n",
       "      <td>43.662301</td>\n",
       "      <td>-79.389494</td>\n",
       "    </tr>\n",
       "  </tbody>\n",
       "</table>\n",
       "</div>"
      ],
      "text/plain": [
       "  PostalCode                                       Borough  \\\n",
       "0        M3A                                    North York   \n",
       "1        M4A                                    North York   \n",
       "2        M5A                              Downtown Toronto   \n",
       "3        M6A                                    North York   \n",
       "4        M7A  Queen's Park / Ontario Provincial Government   \n",
       "\n",
       "                                   Neighborhood   latitude  longitude  \n",
       "0                                     Parkwoods  43.753259 -79.329656  \n",
       "1                              Victoria Village  43.725882 -79.315572  \n",
       "2                     Regent Park, Harbourfront  43.654260 -79.360636  \n",
       "3              Lawrence Manor, Lawrence Heights  43.718518 -79.464763  \n",
       "4  Queen's Park / Ontario Provincial Government  43.662301 -79.389494  "
      ]
     },
     "execution_count": 19,
     "metadata": {},
     "output_type": "execute_result"
    }
   ],
   "source": [
    "df.head()"
   ]
  },
  {
   "cell_type": "code",
   "execution_count": 20,
   "metadata": {},
   "outputs": [
    {
     "name": "stdout",
     "output_type": "stream",
     "text": [
      "0.0\n",
      "0.0\n"
     ]
    }
   ],
   "source": [
    "print(df.latitude.isnull().mean())\n",
    "print(df.longitude.isnull().mean())"
   ]
  },
  {
   "cell_type": "markdown",
   "metadata": {},
   "source": [
    "##### Define the centroid location's latitude and longitude for the map"
   ]
  },
  {
   "cell_type": "code",
   "execution_count": 21,
   "metadata": {},
   "outputs": [],
   "source": [
    "c_latitude, c_longitude = df.latitude.mean(), df.longitude.mean()"
   ]
  },
  {
   "cell_type": "markdown",
   "metadata": {},
   "source": [
    "## 3. Exploring neighborhoods"
   ]
  },
  {
   "cell_type": "markdown",
   "metadata": {},
   "source": [
    "##### Create a map of Toronto with neighborhoods superimposed on top."
   ]
  },
  {
   "cell_type": "code",
   "execution_count": 23,
   "metadata": {},
   "outputs": [
    {
     "data": {
      "text/html": [
       "<div style=\"width:100%;\"><div style=\"position:relative;width:100%;height:0;padding-bottom:60%;\"><iframe src=\"about:blank\" style=\"position:absolute;width:100%;height:100%;left:0;top:0;border:none !important;\" data-html=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 onload=\"this.contentDocument.open();this.contentDocument.write(atob(this.getAttribute('data-html')));this.contentDocument.close();\" allowfullscreen webkitallowfullscreen mozallowfullscreen></iframe></div></div>"
      ],
      "text/plain": [
       "<folium.folium.Map at 0x19a1325f5f8>"
      ]
     },
     "execution_count": 23,
     "metadata": {},
     "output_type": "execute_result"
    }
   ],
   "source": [
    "map_newyork = folium.Map(location=[c_latitude, c_longitude], zoom_start=10)\n",
    "zipped = zip(df['latitude'], df['longitude'], df['Borough'], df['Neighborhood'])\n",
    "\n",
    "for lat, lng, borough, neighborhood in zipped:\n",
    "    label = '{}, {}'.format(neighborhood, borough)\n",
    "    label = folium.Popup(label, parse_html=True)\n",
    "    folium.CircleMarker(\n",
    "        [lat, lng],\n",
    "        radius=5,\n",
    "        popup=label,\n",
    "        color='blue',\n",
    "        fill=True, fill_color='#3186cc', fill_opacity=0.7,\n",
    "        parse_html=False\n",
    "    ).add_to(map_newyork)  \n",
    "    \n",
    "map_newyork"
   ]
  },
  {
   "cell_type": "markdown",
   "metadata": {},
   "source": [
    "<img src=\"img/capture1.png\"/>"
   ]
  },
  {
   "cell_type": "markdown",
   "metadata": {},
   "source": [
    "##### Let's call the function defined in the Course and apply it to all the neighborhoods in Toronto. "
   ]
  },
  {
   "cell_type": "code",
   "execution_count": 24,
   "metadata": {},
   "outputs": [],
   "source": [
    "toronto_venues = getNearbyVenues(\n",
    "    names=df['Neighborhood'],\n",
    "    latitudes=df['latitude'],\n",
    "    longitudes=df['longitude']\n",
    ")"
   ]
  },
  {
   "cell_type": "code",
   "execution_count": 25,
   "metadata": {
    "scrolled": true
   },
   "outputs": [
    {
     "name": "stdout",
     "output_type": "stream",
     "text": [
      "(2247, 8)\n"
     ]
    },
    {
     "data": {
      "text/html": [
       "<div>\n",
       "<style scoped>\n",
       "    .dataframe tbody tr th:only-of-type {\n",
       "        vertical-align: middle;\n",
       "    }\n",
       "\n",
       "    .dataframe tbody tr th {\n",
       "        vertical-align: top;\n",
       "    }\n",
       "\n",
       "    .dataframe thead th {\n",
       "        text-align: right;\n",
       "    }\n",
       "</style>\n",
       "<table border=\"1\" class=\"dataframe\">\n",
       "  <thead>\n",
       "    <tr style=\"text-align: right;\">\n",
       "      <th></th>\n",
       "      <th>Neighborhood</th>\n",
       "      <th>Neighborhood Latitude</th>\n",
       "      <th>Neighborhood Longitude</th>\n",
       "      <th>Venue</th>\n",
       "      <th>Venue Latitude</th>\n",
       "      <th>Venue Longitude</th>\n",
       "      <th>Venue Category</th>\n",
       "      <th>Venue Family</th>\n",
       "    </tr>\n",
       "  </thead>\n",
       "  <tbody>\n",
       "    <tr>\n",
       "      <th>0</th>\n",
       "      <td>Parkwoods</td>\n",
       "      <td>43.753259</td>\n",
       "      <td>-79.329656</td>\n",
       "      <td>Brookbanks Park</td>\n",
       "      <td>43.751976</td>\n",
       "      <td>-79.332140</td>\n",
       "      <td>Park</td>\n",
       "      <td>parks_outdoors</td>\n",
       "    </tr>\n",
       "    <tr>\n",
       "      <th>1</th>\n",
       "      <td>Parkwoods</td>\n",
       "      <td>43.753259</td>\n",
       "      <td>-79.329656</td>\n",
       "      <td>Variety Store</td>\n",
       "      <td>43.751974</td>\n",
       "      <td>-79.333114</td>\n",
       "      <td>Food &amp; Drink Shop</td>\n",
       "      <td>shops</td>\n",
       "    </tr>\n",
       "    <tr>\n",
       "      <th>2</th>\n",
       "      <td>Victoria Village</td>\n",
       "      <td>43.725882</td>\n",
       "      <td>-79.315572</td>\n",
       "      <td>Victoria Village Arena</td>\n",
       "      <td>43.723481</td>\n",
       "      <td>-79.315635</td>\n",
       "      <td>Hockey Arena</td>\n",
       "      <td>arts_entertainment</td>\n",
       "    </tr>\n",
       "    <tr>\n",
       "      <th>3</th>\n",
       "      <td>Victoria Village</td>\n",
       "      <td>43.725882</td>\n",
       "      <td>-79.315572</td>\n",
       "      <td>Tim Hortons</td>\n",
       "      <td>43.725517</td>\n",
       "      <td>-79.313103</td>\n",
       "      <td>Coffee Shop</td>\n",
       "      <td>food</td>\n",
       "    </tr>\n",
       "    <tr>\n",
       "      <th>4</th>\n",
       "      <td>Victoria Village</td>\n",
       "      <td>43.725882</td>\n",
       "      <td>-79.315572</td>\n",
       "      <td>Portugril</td>\n",
       "      <td>43.725819</td>\n",
       "      <td>-79.312785</td>\n",
       "      <td>Portuguese Restaurant</td>\n",
       "      <td>food</td>\n",
       "    </tr>\n",
       "  </tbody>\n",
       "</table>\n",
       "</div>"
      ],
      "text/plain": [
       "       Neighborhood  Neighborhood Latitude  Neighborhood Longitude  \\\n",
       "0         Parkwoods              43.753259              -79.329656   \n",
       "1         Parkwoods              43.753259              -79.329656   \n",
       "2  Victoria Village              43.725882              -79.315572   \n",
       "3  Victoria Village              43.725882              -79.315572   \n",
       "4  Victoria Village              43.725882              -79.315572   \n",
       "\n",
       "                    Venue  Venue Latitude  Venue Longitude  \\\n",
       "0         Brookbanks Park       43.751976       -79.332140   \n",
       "1           Variety Store       43.751974       -79.333114   \n",
       "2  Victoria Village Arena       43.723481       -79.315635   \n",
       "3             Tim Hortons       43.725517       -79.313103   \n",
       "4               Portugril       43.725819       -79.312785   \n",
       "\n",
       "          Venue Category        Venue Family  \n",
       "0                   Park      parks_outdoors  \n",
       "1      Food & Drink Shop               shops  \n",
       "2           Hockey Arena  arts_entertainment  \n",
       "3            Coffee Shop                food  \n",
       "4  Portuguese Restaurant                food  "
      ]
     },
     "execution_count": 25,
     "metadata": {},
     "output_type": "execute_result"
    }
   ],
   "source": [
    "print(toronto_venues.shape)\n",
    "toronto_venues.head()"
   ]
  },
  {
   "cell_type": "code",
   "execution_count": 26,
   "metadata": {},
   "outputs": [],
   "source": [
    "nb_venues_per_neighborhood = toronto_venues['Neighborhood'].value_counts()"
   ]
  },
  {
   "cell_type": "code",
   "execution_count": 27,
   "metadata": {},
   "outputs": [
    {
     "data": {
      "text/plain": [
       "<matplotlib.axes._subplots.AxesSubplot at 0x19a13423cc0>"
      ]
     },
     "execution_count": 27,
     "metadata": {},
     "output_type": "execute_result"
    },
    {
     "data": {
      "image/png": "[encoded data removed]",
      "text/plain": [
       "<Figure size 432x288 with 1 Axes>"
      ]
     },
     "metadata": {
      "needs_background": "light"
     },
     "output_type": "display_data"
    }
   ],
   "source": [
    "sns.boxplot(nb_venues_per_neighborhood)"
   ]
  },
  {
   "cell_type": "code",
   "execution_count": 28,
   "metadata": {},
   "outputs": [
    {
     "data": {
      "text/plain": [
       "food                  1256\n",
       "shops                  464\n",
       "nightlife              149\n",
       "parks_outdoors         117\n",
       "arts_entertainment      93\n",
       "travel                  88\n",
       "building                77\n",
       "education                3\n",
       "Name: Venue Family, dtype: int64"
      ]
     },
     "execution_count": 28,
     "metadata": {},
     "output_type": "execute_result"
    }
   ],
   "source": [
    "toronto_venues['Venue Family'].value_counts()"
   ]
  },
  {
   "cell_type": "code",
   "execution_count": 29,
   "metadata": {},
   "outputs": [
    {
     "data": {
      "text/plain": [
       "Venue Family\n",
       "arts_entertainment    {Concert Hall, Theater, Performing Arts Venue,...\n",
       "building              {Coworking Space, Event Space, Gym / Fitness C...\n",
       "education              {College Rec Center, Supplement Shop, Cafeteria}\n",
       "food                  {Dumpling Restaurant, Japanese Restaurant, Pou...\n",
       "nightlife             {Lounge, Speakeasy, Sake Bar, Gay Bar, Irish P...\n",
       "parks_outdoors        {Lake, Sculpture Garden, Outdoor Sculpture, Tr...\n",
       "shops                 {Gas Station, Record Shop, Toy / Game Store, W...\n",
       "travel                {Airport Food Court, Roof Deck, Bed & Breakfas...\n",
       "Name: Venue Category, dtype: object"
      ]
     },
     "execution_count": 29,
     "metadata": {},
     "output_type": "execute_result"
    }
   ],
   "source": [
    "toronto_venues.groupby('Venue Family')['Venue Category'].apply(set)"
   ]
  },
  {
   "cell_type": "code",
   "execution_count": 30,
   "metadata": {},
   "outputs": [
    {
     "name": "stdout",
     "output_type": "stream",
     "text": [
      "(2247, 9)\n"
     ]
    },
    {
     "data": {
      "text/html": [
       "<div>\n",
       "<style scoped>\n",
       "    .dataframe tbody tr th:only-of-type {\n",
       "        vertical-align: middle;\n",
       "    }\n",
       "\n",
       "    .dataframe tbody tr th {\n",
       "        vertical-align: top;\n",
       "    }\n",
       "\n",
       "    .dataframe thead th {\n",
       "        text-align: right;\n",
       "    }\n",
       "</style>\n",
       "<table border=\"1\" class=\"dataframe\">\n",
       "  <thead>\n",
       "    <tr style=\"text-align: right;\">\n",
       "      <th></th>\n",
       "      <th>Neighborhood</th>\n",
       "      <th>arts_entertainment</th>\n",
       "      <th>building</th>\n",
       "      <th>education</th>\n",
       "      <th>food</th>\n",
       "      <th>nightlife</th>\n",
       "      <th>parks_outdoors</th>\n",
       "      <th>shops</th>\n",
       "      <th>travel</th>\n",
       "    </tr>\n",
       "  </thead>\n",
       "  <tbody>\n",
       "    <tr>\n",
       "      <th>0</th>\n",
       "      <td>Parkwoods</td>\n",
       "      <td>0</td>\n",
       "      <td>0</td>\n",
       "      <td>0</td>\n",
       "      <td>0</td>\n",
       "      <td>0</td>\n",
       "      <td>1</td>\n",
       "      <td>0</td>\n",
       "      <td>0</td>\n",
       "    </tr>\n",
       "    <tr>\n",
       "      <th>1</th>\n",
       "      <td>Parkwoods</td>\n",
       "      <td>0</td>\n",
       "      <td>0</td>\n",
       "      <td>0</td>\n",
       "      <td>0</td>\n",
       "      <td>0</td>\n",
       "      <td>0</td>\n",
       "      <td>1</td>\n",
       "      <td>0</td>\n",
       "    </tr>\n",
       "    <tr>\n",
       "      <th>2</th>\n",
       "      <td>Victoria Village</td>\n",
       "      <td>1</td>\n",
       "      <td>0</td>\n",
       "      <td>0</td>\n",
       "      <td>0</td>\n",
       "      <td>0</td>\n",
       "      <td>0</td>\n",
       "      <td>0</td>\n",
       "      <td>0</td>\n",
       "    </tr>\n",
       "    <tr>\n",
       "      <th>3</th>\n",
       "      <td>Victoria Village</td>\n",
       "      <td>0</td>\n",
       "      <td>0</td>\n",
       "      <td>0</td>\n",
       "      <td>1</td>\n",
       "      <td>0</td>\n",
       "      <td>0</td>\n",
       "      <td>0</td>\n",
       "      <td>0</td>\n",
       "    </tr>\n",
       "    <tr>\n",
       "      <th>4</th>\n",
       "      <td>Victoria Village</td>\n",
       "      <td>0</td>\n",
       "      <td>0</td>\n",
       "      <td>0</td>\n",
       "      <td>1</td>\n",
       "      <td>0</td>\n",
       "      <td>0</td>\n",
       "      <td>0</td>\n",
       "      <td>0</td>\n",
       "    </tr>\n",
       "  </tbody>\n",
       "</table>\n",
       "</div>"
      ],
      "text/plain": [
       "       Neighborhood  arts_entertainment  building  education  food  nightlife  \\\n",
       "0         Parkwoods                   0         0          0     0          0   \n",
       "1         Parkwoods                   0         0          0     0          0   \n",
       "2  Victoria Village                   1         0          0     0          0   \n",
       "3  Victoria Village                   0         0          0     1          0   \n",
       "4  Victoria Village                   0         0          0     1          0   \n",
       "\n",
       "   parks_outdoors  shops  travel  \n",
       "0               1      0       0  \n",
       "1               0      1       0  \n",
       "2               0      0       0  \n",
       "3               0      0       0  \n",
       "4               0      0       0  "
      ]
     },
     "execution_count": 30,
     "metadata": {},
     "output_type": "execute_result"
    }
   ],
   "source": [
    "# one hot encoding\n",
    "toronto_onehot = pd.concat(\n",
    "    [\n",
    "        toronto_venues['Neighborhood'],\n",
    "        pd.get_dummies(toronto_venues[['Venue Family']], prefix=\"\", prefix_sep=\"\")\n",
    "    ],\n",
    "    axis=1\n",
    ")\n",
    "print(toronto_onehot.shape)\n",
    "toronto_onehot.head()"
   ]
  },
  {
   "cell_type": "markdown",
   "metadata": {},
   "source": [
    "#### Next, let's group rows by neighborhood and by taking the mean of the frequency of occurrence of each category"
   ]
  },
  {
   "cell_type": "code",
   "execution_count": 31,
   "metadata": {},
   "outputs": [
    {
     "data": {
      "text/html": [
       "<div>\n",
       "<style scoped>\n",
       "    .dataframe tbody tr th:only-of-type {\n",
       "        vertical-align: middle;\n",
       "    }\n",
       "\n",
       "    .dataframe tbody tr th {\n",
       "        vertical-align: top;\n",
       "    }\n",
       "\n",
       "    .dataframe thead th {\n",
       "        text-align: right;\n",
       "    }\n",
       "</style>\n",
       "<table border=\"1\" class=\"dataframe\">\n",
       "  <thead>\n",
       "    <tr style=\"text-align: right;\">\n",
       "      <th></th>\n",
       "      <th>arts_entertainment</th>\n",
       "      <th>building</th>\n",
       "      <th>education</th>\n",
       "      <th>food</th>\n",
       "      <th>nightlife</th>\n",
       "      <th>parks_outdoors</th>\n",
       "      <th>shops</th>\n",
       "      <th>travel</th>\n",
       "    </tr>\n",
       "    <tr>\n",
       "      <th>Neighborhood</th>\n",
       "      <th></th>\n",
       "      <th></th>\n",
       "      <th></th>\n",
       "      <th></th>\n",
       "      <th></th>\n",
       "      <th></th>\n",
       "      <th></th>\n",
       "      <th></th>\n",
       "    </tr>\n",
       "  </thead>\n",
       "  <tbody>\n",
       "    <tr>\n",
       "      <th>Agincourt)</th>\n",
       "      <td>0.0</td>\n",
       "      <td>0.000000</td>\n",
       "      <td>0.0</td>\n",
       "      <td>0.400000</td>\n",
       "      <td>0.200000</td>\n",
       "      <td>0.200000</td>\n",
       "      <td>0.200000</td>\n",
       "      <td>0.0</td>\n",
       "    </tr>\n",
       "    <tr>\n",
       "      <th>Alderwood, Long Branch</th>\n",
       "      <td>0.0</td>\n",
       "      <td>0.111111</td>\n",
       "      <td>0.0</td>\n",
       "      <td>0.444444</td>\n",
       "      <td>0.111111</td>\n",
       "      <td>0.222222</td>\n",
       "      <td>0.111111</td>\n",
       "      <td>0.0</td>\n",
       "    </tr>\n",
       "    <tr>\n",
       "      <th>Bathurst Manor, Wilson Heights, Downsview North</th>\n",
       "      <td>0.0</td>\n",
       "      <td>0.000000</td>\n",
       "      <td>0.0</td>\n",
       "      <td>0.523810</td>\n",
       "      <td>0.000000</td>\n",
       "      <td>0.047619</td>\n",
       "      <td>0.428571</td>\n",
       "      <td>0.0</td>\n",
       "    </tr>\n",
       "    <tr>\n",
       "      <th>Bayview Village</th>\n",
       "      <td>0.0</td>\n",
       "      <td>0.000000</td>\n",
       "      <td>0.0</td>\n",
       "      <td>0.750000</td>\n",
       "      <td>0.000000</td>\n",
       "      <td>0.000000</td>\n",
       "      <td>0.250000</td>\n",
       "      <td>0.0</td>\n",
       "    </tr>\n",
       "    <tr>\n",
       "      <th>Bedford Park, Lawrence Manor East</th>\n",
       "      <td>0.0</td>\n",
       "      <td>0.000000</td>\n",
       "      <td>0.0</td>\n",
       "      <td>0.769231</td>\n",
       "      <td>0.038462</td>\n",
       "      <td>0.000000</td>\n",
       "      <td>0.192308</td>\n",
       "      <td>0.0</td>\n",
       "    </tr>\n",
       "  </tbody>\n",
       "</table>\n",
       "</div>"
      ],
      "text/plain": [
       "                                                 arts_entertainment  building  \\\n",
       "Neighborhood                                                                    \n",
       "Agincourt)                                                      0.0  0.000000   \n",
       "Alderwood, Long Branch                                          0.0  0.111111   \n",
       "Bathurst Manor, Wilson Heights, Downsview North                 0.0  0.000000   \n",
       "Bayview Village                                                 0.0  0.000000   \n",
       "Bedford Park, Lawrence Manor East                               0.0  0.000000   \n",
       "\n",
       "                                                 education      food  \\\n",
       "Neighborhood                                                           \n",
       "Agincourt)                                             0.0  0.400000   \n",
       "Alderwood, Long Branch                                 0.0  0.444444   \n",
       "Bathurst Manor, Wilson Heights, Downsview North        0.0  0.523810   \n",
       "Bayview Village                                        0.0  0.750000   \n",
       "Bedford Park, Lawrence Manor East                      0.0  0.769231   \n",
       "\n",
       "                                                 nightlife  parks_outdoors  \\\n",
       "Neighborhood                                                                 \n",
       "Agincourt)                                        0.200000        0.200000   \n",
       "Alderwood, Long Branch                            0.111111        0.222222   \n",
       "Bathurst Manor, Wilson Heights, Downsview North   0.000000        0.047619   \n",
       "Bayview Village                                   0.000000        0.000000   \n",
       "Bedford Park, Lawrence Manor East                 0.038462        0.000000   \n",
       "\n",
       "                                                    shops  travel  \n",
       "Neighborhood                                                       \n",
       "Agincourt)                                       0.200000     0.0  \n",
       "Alderwood, Long Branch                           0.111111     0.0  \n",
       "Bathurst Manor, Wilson Heights, Downsview North  0.428571     0.0  \n",
       "Bayview Village                                  0.250000     0.0  \n",
       "Bedford Park, Lawrence Manor East                0.192308     0.0  "
      ]
     },
     "execution_count": 31,
     "metadata": {},
     "output_type": "execute_result"
    }
   ],
   "source": [
    "toronto_grouped = toronto_onehot.groupby('Neighborhood').mean()\n",
    "toronto_grouped.head()"
   ]
  },
  {
   "cell_type": "code",
   "execution_count": 100,
   "metadata": {
    "scrolled": true
   },
   "outputs": [
    {
     "name": "stdout",
     "output_type": "stream",
     "text": [
      "----------Guildwood, Morningside, West Hill----------\n",
      "shops             0.500\n",
      "food              0.250\n",
      "travel            0.125\n",
      "building          0.125\n",
      "parks_outdoors    0.000\n",
      "Name: Guildwood, Morningside, West Hill, dtype: float64\n",
      "\n",
      "\n",
      "----------Scarborough Village----------\n",
      "parks_outdoors    0.5\n",
      "building          0.5\n",
      "travel            0.0\n",
      "shops             0.0\n",
      "nightlife         0.0\n",
      "Name: Scarborough Village, dtype: float64\n",
      "\n",
      "\n",
      "----------Mimico NW, The Queensway West, South of Bloor, Kingsway Park South West, Royal York South West----------\n",
      "shops        0.400000\n",
      "food         0.400000\n",
      "building     0.133333\n",
      "education    0.066667\n",
      "travel       0.000000\n",
      "Name: Mimico NW, The Queensway West, South of Bloor, Kingsway Park South West, Royal York South West, dtype: float64\n",
      "\n",
      "\n"
     ]
    }
   ],
   "source": [
    "for neighbor in toronto_grouped.sample(3).index.tolist():\n",
    "    print('-'*10 + neighbor + '-'*10)\n",
    "    print(toronto_grouped.loc[neighbor].sort_values(ascending=False).head(5))\n",
    "    print('\\n')"
   ]
  },
  {
   "cell_type": "markdown",
   "metadata": {},
   "source": [
    "## 4. Cluster Neighborhoods"
   ]
  },
  {
   "cell_type": "markdown",
   "metadata": {},
   "source": [
    "##### Let's find the optimal number of clusters using the Elbow method"
   ]
  },
  {
   "cell_type": "code",
   "execution_count": 101,
   "metadata": {},
   "outputs": [],
   "source": [
    "sum_of_squared_distances = []\n",
    "K = range(1,15)\n",
    "for k in K:\n",
    "    km = KMeans(n_clusters=k)\n",
    "    km = km.fit(toronto_grouped)\n",
    "    sum_of_squared_distances.append(km.inertia_)"
   ]
  },
  {
   "cell_type": "code",
   "execution_count": 102,
   "metadata": {},
   "outputs": [
    {
     "data": {
      "image/png": "[encoded data removed]",
      "text/plain": [
       "<Figure size 432x288 with 1 Axes>"
      ]
     },
     "metadata": {
      "needs_background": "light"
     },
     "output_type": "display_data"
    }
   ],
   "source": [
    "plt.plot(K, sum_of_squared_distances, 'bx-')\n",
    "plt.xlabel('k')\n",
    "plt.ylabel('Sum_of_squared_distances')\n",
    "plt.title('Elbow Method For Optimal k')\n",
    "plt.show()"
   ]
  },
  {
   "cell_type": "code",
   "execution_count": 103,
   "metadata": {},
   "outputs": [
    {
     "data": {
      "text/plain": [
       "array([2, 2, 2, 2, 2, 2, 3, 2, 3, 3, 2, 2, 0, 2, 0, 2, 2, 2, 2, 3, 2, 2,\n",
       "       2, 2, 3, 1, 0, 0, 2, 2, 3, 2, 0, 0, 2, 3, 2, 2, 3, 0, 2, 2, 1, 2,\n",
       "       3, 1, 2, 0, 2, 2, 0, 1, 0, 2, 2, 1, 0, 1, 2, 3, 0, 0, 3, 2, 2, 3,\n",
       "       2, 2, 2, 1, 1, 3, 2, 0, 1, 0, 2, 2, 2, 2, 2, 2, 3, 3, 2, 1, 0, 2,\n",
       "       2, 2, 2, 3, 2, 2, 0, 2, 3, 0, 3])"
      ]
     },
     "execution_count": 103,
     "metadata": {},
     "output_type": "execute_result"
    }
   ],
   "source": [
    "# set number of clusters\n",
    "kclusters = 4\n",
    "\n",
    "# run k-means clustering\n",
    "kmeans = KMeans(\n",
    "    n_clusters=kclusters, \n",
    "    random_state=0,\n",
    "    init='k-means++',\n",
    ").fit(toronto_grouped)\n",
    "\n",
    "# check cluster labels generated for each row in the dataframe\n",
    "kmeans.labels_ "
   ]
  },
  {
   "cell_type": "code",
   "execution_count": 104,
   "metadata": {},
   "outputs": [],
   "source": [
    "# add clustering labels\n",
    "toronto_grouped.insert(0, 'Cluster Labels', kmeans.labels_)"
   ]
  },
  {
   "cell_type": "code",
   "execution_count": 105,
   "metadata": {},
   "outputs": [],
   "source": [
    "df['Cluster Labels'] = 'Cluster ' + df['Neighborhood'].map(\n",
    "    toronto_grouped['Cluster Labels'].astype(int).astype(str).to_dict()\n",
    ").fillna('NC')"
   ]
  },
  {
   "cell_type": "code",
   "execution_count": 106,
   "metadata": {},
   "outputs": [
    {
     "data": {
      "text/html": [
       "<div>\n",
       "<style scoped>\n",
       "    .dataframe tbody tr th:only-of-type {\n",
       "        vertical-align: middle;\n",
       "    }\n",
       "\n",
       "    .dataframe tbody tr th {\n",
       "        vertical-align: top;\n",
       "    }\n",
       "\n",
       "    .dataframe thead th {\n",
       "        text-align: right;\n",
       "    }\n",
       "</style>\n",
       "<table border=\"1\" class=\"dataframe\">\n",
       "  <thead>\n",
       "    <tr style=\"text-align: right;\">\n",
       "      <th></th>\n",
       "      <th>PostalCode</th>\n",
       "      <th>Borough</th>\n",
       "      <th>Neighborhood</th>\n",
       "      <th>latitude</th>\n",
       "      <th>longitude</th>\n",
       "      <th>Cluster Labels</th>\n",
       "    </tr>\n",
       "  </thead>\n",
       "  <tbody>\n",
       "    <tr>\n",
       "      <th>0</th>\n",
       "      <td>M3A</td>\n",
       "      <td>North York</td>\n",
       "      <td>Parkwoods</td>\n",
       "      <td>43.753259</td>\n",
       "      <td>-79.329656</td>\n",
       "      <td>Cluster 3</td>\n",
       "    </tr>\n",
       "    <tr>\n",
       "      <th>1</th>\n",
       "      <td>M4A</td>\n",
       "      <td>North York</td>\n",
       "      <td>Victoria Village</td>\n",
       "      <td>43.725882</td>\n",
       "      <td>-79.315572</td>\n",
       "      <td>Cluster 2</td>\n",
       "    </tr>\n",
       "  </tbody>\n",
       "</table>\n",
       "</div>"
      ],
      "text/plain": [
       "  PostalCode     Borough      Neighborhood   latitude  longitude  \\\n",
       "0        M3A  North York         Parkwoods  43.753259 -79.329656   \n",
       "1        M4A  North York  Victoria Village  43.725882 -79.315572   \n",
       "\n",
       "  Cluster Labels  \n",
       "0      Cluster 3  \n",
       "1      Cluster 2  "
      ]
     },
     "execution_count": 106,
     "metadata": {},
     "output_type": "execute_result"
    }
   ],
   "source": [
    "df.head(2)"
   ]
  },
  {
   "cell_type": "code",
   "execution_count": 107,
   "metadata": {},
   "outputs": [
    {
     "data": {
      "text/html": [
       "<div>\n",
       "<style scoped>\n",
       "    .dataframe tbody tr th:only-of-type {\n",
       "        vertical-align: middle;\n",
       "    }\n",
       "\n",
       "    .dataframe tbody tr th {\n",
       "        vertical-align: top;\n",
       "    }\n",
       "\n",
       "    .dataframe thead th {\n",
       "        text-align: right;\n",
       "    }\n",
       "</style>\n",
       "<table border=\"1\" class=\"dataframe\">\n",
       "  <thead>\n",
       "    <tr style=\"text-align: right;\">\n",
       "      <th></th>\n",
       "      <th>Neighborhood</th>\n",
       "      <th>Neighborhood Latitude</th>\n",
       "      <th>Neighborhood Longitude</th>\n",
       "      <th>Venue</th>\n",
       "      <th>Venue Latitude</th>\n",
       "      <th>Venue Longitude</th>\n",
       "      <th>Venue Category</th>\n",
       "      <th>Venue Family</th>\n",
       "    </tr>\n",
       "  </thead>\n",
       "  <tbody>\n",
       "    <tr>\n",
       "      <th>0</th>\n",
       "      <td>Parkwoods</td>\n",
       "      <td>43.753259</td>\n",
       "      <td>-79.329656</td>\n",
       "      <td>Brookbanks Park</td>\n",
       "      <td>43.751976</td>\n",
       "      <td>-79.332140</td>\n",
       "      <td>Park</td>\n",
       "      <td>parks_outdoors</td>\n",
       "    </tr>\n",
       "    <tr>\n",
       "      <th>1</th>\n",
       "      <td>Parkwoods</td>\n",
       "      <td>43.753259</td>\n",
       "      <td>-79.329656</td>\n",
       "      <td>Variety Store</td>\n",
       "      <td>43.751974</td>\n",
       "      <td>-79.333114</td>\n",
       "      <td>Food &amp; Drink Shop</td>\n",
       "      <td>shops</td>\n",
       "    </tr>\n",
       "  </tbody>\n",
       "</table>\n",
       "</div>"
      ],
      "text/plain": [
       "  Neighborhood  Neighborhood Latitude  Neighborhood Longitude  \\\n",
       "0    Parkwoods              43.753259              -79.329656   \n",
       "1    Parkwoods              43.753259              -79.329656   \n",
       "\n",
       "             Venue  Venue Latitude  Venue Longitude     Venue Category  \\\n",
       "0  Brookbanks Park       43.751976       -79.332140               Park   \n",
       "1    Variety Store       43.751974       -79.333114  Food & Drink Shop   \n",
       "\n",
       "     Venue Family  \n",
       "0  parks_outdoors  \n",
       "1           shops  "
      ]
     },
     "execution_count": 107,
     "metadata": {},
     "output_type": "execute_result"
    }
   ],
   "source": [
    "toronto_venues.head(2)"
   ]
  },
  {
   "cell_type": "code",
   "execution_count": 109,
   "metadata": {},
   "outputs": [],
   "source": [
    "temp = toronto_grouped.groupby('Cluster Labels').mean().mul(100)"
   ]
  },
  {
   "cell_type": "code",
   "execution_count": 112,
   "metadata": {},
   "outputs": [
    {
     "data": {
      "text/html": [
       "<div>\n",
       "<style scoped>\n",
       "    .dataframe tbody tr th:only-of-type {\n",
       "        vertical-align: middle;\n",
       "    }\n",
       "\n",
       "    .dataframe tbody tr th {\n",
       "        vertical-align: top;\n",
       "    }\n",
       "\n",
       "    .dataframe thead th {\n",
       "        text-align: right;\n",
       "    }\n",
       "</style>\n",
       "<table border=\"1\" class=\"dataframe\">\n",
       "  <thead>\n",
       "    <tr style=\"text-align: right;\">\n",
       "      <th></th>\n",
       "      <th>arts_entertainment</th>\n",
       "      <th>building</th>\n",
       "      <th>education</th>\n",
       "      <th>food</th>\n",
       "      <th>nightlife</th>\n",
       "      <th>parks_outdoors</th>\n",
       "      <th>shops</th>\n",
       "      <th>travel</th>\n",
       "    </tr>\n",
       "    <tr>\n",
       "      <th>Cluster Labels</th>\n",
       "      <th></th>\n",
       "      <th></th>\n",
       "      <th></th>\n",
       "      <th></th>\n",
       "      <th></th>\n",
       "      <th></th>\n",
       "      <th></th>\n",
       "      <th></th>\n",
       "    </tr>\n",
       "  </thead>\n",
       "  <tbody>\n",
       "    <tr>\n",
       "      <th>0</th>\n",
       "      <td>0.170940</td>\n",
       "      <td>2.857982</td>\n",
       "      <td>0.370370</td>\n",
       "      <td>27.319893</td>\n",
       "      <td>2.881403</td>\n",
       "      <td>4.235892</td>\n",
       "      <td>59.702317</td>\n",
       "      <td>2.461201</td>\n",
       "    </tr>\n",
       "    <tr>\n",
       "      <th>1</th>\n",
       "      <td>5.000000</td>\n",
       "      <td>5.000000</td>\n",
       "      <td>0.000000</td>\n",
       "      <td>5.000000</td>\n",
       "      <td>0.000000</td>\n",
       "      <td>76.666667</td>\n",
       "      <td>0.000000</td>\n",
       "      <td>8.333333</td>\n",
       "    </tr>\n",
       "    <tr>\n",
       "      <th>2</th>\n",
       "      <td>3.104533</td>\n",
       "      <td>3.017767</td>\n",
       "      <td>0.018868</td>\n",
       "      <td>61.665655</td>\n",
       "      <td>5.885203</td>\n",
       "      <td>4.263918</td>\n",
       "      <td>17.558048</td>\n",
       "      <td>4.486007</td>\n",
       "    </tr>\n",
       "    <tr>\n",
       "      <th>3</th>\n",
       "      <td>5.185185</td>\n",
       "      <td>2.954145</td>\n",
       "      <td>5.555556</td>\n",
       "      <td>16.987835</td>\n",
       "      <td>4.440236</td>\n",
       "      <td>30.626704</td>\n",
       "      <td>25.320467</td>\n",
       "      <td>8.929874</td>\n",
       "    </tr>\n",
       "  </tbody>\n",
       "</table>\n",
       "</div>"
      ],
      "text/plain": [
       "                arts_entertainment  building  education       food  nightlife  \\\n",
       "Cluster Labels                                                                  \n",
       "0                         0.170940  2.857982   0.370370  27.319893   2.881403   \n",
       "1                         5.000000  5.000000   0.000000   5.000000   0.000000   \n",
       "2                         3.104533  3.017767   0.018868  61.665655   5.885203   \n",
       "3                         5.185185  2.954145   5.555556  16.987835   4.440236   \n",
       "\n",
       "                parks_outdoors      shops    travel  \n",
       "Cluster Labels                                       \n",
       "0                     4.235892  59.702317  2.461201  \n",
       "1                    76.666667   0.000000  8.333333  \n",
       "2                     4.263918  17.558048  4.486007  \n",
       "3                    30.626704  25.320467  8.929874  "
      ]
     },
     "execution_count": 112,
     "metadata": {},
     "output_type": "execute_result"
    }
   ],
   "source": [
    "temp"
   ]
  },
  {
   "cell_type": "code",
   "execution_count": 110,
   "metadata": {},
   "outputs": [
    {
     "data": {
      "application/vnd.plotly.v1+json": {
       "config": {
        "plotlyServerURL": "https://plot.ly"
       },
       "data": [
        {
         "name": "arts_entertainment",
         "type": "bar",
         "x": [
          0,
          1,
          2,
          3
         ],
         "y": [
          0.17094017094017094,
          5,
          3.104532813114214,
          5.185185185185185
         ]
        },
        {
         "name": "building",
         "type": "bar",
         "x": [
          0,
          1,
          2,
          3
         ],
         "y": [
          2.857982374236244,
          5,
          3.0177673775145246,
          2.954144620811287
         ]
        },
        {
         "name": "education",
         "type": "bar",
         "x": [
          0,
          1,
          2,
          3
         ],
         "y": [
          0.3703703703703704,
          0,
          0.018867924528301886,
          5.555555555555555
         ]
        },
        {
         "name": "food",
         "type": "bar",
         "x": [
          0,
          1,
          2,
          3
         ],
         "y": [
          27.319892869428468,
          5,
          61.665655290787605,
          16.98783469616803
         ]
        },
        {
         "name": "nightlife",
         "type": "bar",
         "x": [
          0,
          1,
          2,
          3
         ],
         "y": [
          2.881403273560136,
          0,
          5.885203183098703,
          4.44023569023569
         ]
        },
        {
         "name": "parks_outdoors",
         "type": "bar",
         "x": [
          0,
          1,
          2,
          3
         ],
         "y": [
          4.235892437646823,
          76.66666666666666,
          4.263918434322875,
          30.626703543370205
         ]
        },
        {
         "name": "shops",
         "type": "bar",
         "x": [
          0,
          1,
          2,
          3
         ],
         "y": [
          59.70231742419565,
          0,
          17.558047746399332,
          25.32046657046657
         ]
        },
        {
         "name": "travel",
         "type": "bar",
         "x": [
          0,
          1,
          2,
          3
         ],
         "y": [
          2.461201079622132,
          8.333333333333332,
          4.4860072302344545,
          8.92987413820747
         ]
        }
       ],
       "layout": {
        "barmode": "stack",
        "template": {
         "data": {
          "bar": [
           {
            "error_x": {
             "color": "#2a3f5f"
            },
            "error_y": {
             "color": "#2a3f5f"
            },
            "marker": {
             "line": {
              "color": "#E5ECF6",
              "width": 0.5
             }
            },
            "type": "bar"
           }
          ],
          "barpolar": [
           {
            "marker": {
             "line": {
              "color": "#E5ECF6",
              "width": 0.5
             }
            },
            "type": "barpolar"
           }
          ],
          "carpet": [
           {
            "aaxis": {
             "endlinecolor": "#2a3f5f",
             "gridcolor": "white",
             "linecolor": "white",
             "minorgridcolor": "white",
             "startlinecolor": "#2a3f5f"
            },
            "baxis": {
             "endlinecolor": "#2a3f5f",
             "gridcolor": "white",
             "linecolor": "white",
             "minorgridcolor": "white",
             "startlinecolor": "#2a3f5f"
            },
            "type": "carpet"
           }
          ],
          "choropleth": [
           {
            "colorbar": {
             "outlinewidth": 0,
             "ticks": ""
            },
            "type": "choropleth"
           }
          ],
          "contour": [
           {
            "colorbar": {
             "outlinewidth": 0,
             "ticks": ""
            },
            "colorscale": [
             [
              0,
              "#0d0887"
             ],
             [
              0.1111111111111111,
              "#46039f"
             ],
             [
              0.2222222222222222,
              "#7201a8"
             ],
             [
              0.3333333333333333,
              "#9c179e"
             ],
             [
              0.4444444444444444,
              "#bd3786"
             ],
             [
              0.5555555555555556,
              "#d8576b"
             ],
             [
              0.6666666666666666,
              "#ed7953"
             ],
             [
              0.7777777777777778,
              "#fb9f3a"
             ],
             [
              0.8888888888888888,
              "#fdca26"
             ],
             [
              1,
              "#f0f921"
             ]
            ],
            "type": "contour"
           }
          ],
          "contourcarpet": [
           {
            "colorbar": {
             "outlinewidth": 0,
             "ticks": ""
            },
            "type": "contourcarpet"
           }
          ],
          "heatmap": [
           {
            "colorbar": {
             "outlinewidth": 0,
             "ticks": ""
            },
            "colorscale": [
             [
              0,
              "#0d0887"
             ],
             [
              0.1111111111111111,
              "#46039f"
             ],
             [
              0.2222222222222222,
              "#7201a8"
             ],
             [
              0.3333333333333333,
              "#9c179e"
             ],
             [
              0.4444444444444444,
              "#bd3786"
             ],
             [
              0.5555555555555556,
              "#d8576b"
             ],
             [
              0.6666666666666666,
              "#ed7953"
             ],
             [
              0.7777777777777778,
              "#fb9f3a"
             ],
             [
              0.8888888888888888,
              "#fdca26"
             ],
             [
              1,
              "#f0f921"
             ]
            ],
            "type": "heatmap"
           }
          ],
          "heatmapgl": [
           {
            "colorbar": {
             "outlinewidth": 0,
             "ticks": ""
            },
            "colorscale": [
             [
              0,
              "#0d0887"
             ],
             [
              0.1111111111111111,
              "#46039f"
             ],
             [
              0.2222222222222222,
              "#7201a8"
             ],
             [
              0.3333333333333333,
              "#9c179e"
             ],
             [
              0.4444444444444444,
              "#bd3786"
             ],
             [
              0.5555555555555556,
              "#d8576b"
             ],
             [
              0.6666666666666666,
              "#ed7953"
             ],
             [
              0.7777777777777778,
              "#fb9f3a"
             ],
             [
              0.8888888888888888,
              "#fdca26"
             ],
             [
              1,
              "#f0f921"
             ]
            ],
            "type": "heatmapgl"
           }
          ],
          "histogram": [
           {
            "marker": {
             "colorbar": {
              "outlinewidth": 0,
              "ticks": ""
             }
            },
            "type": "histogram"
           }
          ],
          "histogram2d": [
           {
            "colorbar": {
             "outlinewidth": 0,
             "ticks": ""
            },
            "colorscale": [
             [
              0,
              "#0d0887"
             ],
             [
              0.1111111111111111,
              "#46039f"
             ],
             [
              0.2222222222222222,
              "#7201a8"
             ],
             [
              0.3333333333333333,
              "#9c179e"
             ],
             [
              0.4444444444444444,
              "#bd3786"
             ],
             [
              0.5555555555555556,
              "#d8576b"
             ],
             [
              0.6666666666666666,
              "#ed7953"
             ],
             [
              0.7777777777777778,
              "#fb9f3a"
             ],
             [
              0.8888888888888888,
              "#fdca26"
             ],
             [
              1,
              "#f0f921"
             ]
            ],
            "type": "histogram2d"
           }
          ],
          "histogram2dcontour": [
           {
            "colorbar": {
             "outlinewidth": 0,
             "ticks": ""
            },
            "colorscale": [
             [
              0,
              "#0d0887"
             ],
             [
              0.1111111111111111,
              "#46039f"
             ],
             [
              0.2222222222222222,
              "#7201a8"
             ],
             [
              0.3333333333333333,
              "#9c179e"
             ],
             [
              0.4444444444444444,
              "#bd3786"
             ],
             [
              0.5555555555555556,
              "#d8576b"
             ],
             [
              0.6666666666666666,
              "#ed7953"
             ],
             [
              0.7777777777777778,
              "#fb9f3a"
             ],
             [
              0.8888888888888888,
              "#fdca26"
             ],
             [
              1,
              "#f0f921"
             ]
            ],
            "type": "histogram2dcontour"
           }
          ],
          "mesh3d": [
           {
            "colorbar": {
             "outlinewidth": 0,
             "ticks": ""
            },
            "type": "mesh3d"
           }
          ],
          "parcoords": [
           {
            "line": {
             "colorbar": {
              "outlinewidth": 0,
              "ticks": ""
             }
            },
            "type": "parcoords"
           }
          ],
          "pie": [
           {
            "automargin": true,
            "type": "pie"
           }
          ],
          "scatter": [
           {
            "marker": {
             "colorbar": {
              "outlinewidth": 0,
              "ticks": ""
             }
            },
            "type": "scatter"
           }
          ],
          "scatter3d": [
           {
            "line": {
             "colorbar": {
              "outlinewidth": 0,
              "ticks": ""
             }
            },
            "marker": {
             "colorbar": {
              "outlinewidth": 0,
              "ticks": ""
             }
            },
            "type": "scatter3d"
           }
          ],
          "scattercarpet": [
           {
            "marker": {
             "colorbar": {
              "outlinewidth": 0,
              "ticks": ""
             }
            },
            "type": "scattercarpet"
           }
          ],
          "scattergeo": [
           {
            "marker": {
             "colorbar": {
              "outlinewidth": 0,
              "ticks": ""
             }
            },
            "type": "scattergeo"
           }
          ],
          "scattergl": [
           {
            "marker": {
             "colorbar": {
              "outlinewidth": 0,
              "ticks": ""
             }
            },
            "type": "scattergl"
           }
          ],
          "scattermapbox": [
           {
            "marker": {
             "colorbar": {
              "outlinewidth": 0,
              "ticks": ""
             }
            },
            "type": "scattermapbox"
           }
          ],
          "scatterpolar": [
           {
            "marker": {
             "colorbar": {
              "outlinewidth": 0,
              "ticks": ""
             }
            },
            "type": "scatterpolar"
           }
          ],
          "scatterpolargl": [
           {
            "marker": {
             "colorbar": {
              "outlinewidth": 0,
              "ticks": ""
             }
            },
            "type": "scatterpolargl"
           }
          ],
          "scatterternary": [
           {
            "marker": {
             "colorbar": {
              "outlinewidth": 0,
              "ticks": ""
             }
            },
            "type": "scatterternary"
           }
          ],
          "surface": [
           {
            "colorbar": {
             "outlinewidth": 0,
             "ticks": ""
            },
            "colorscale": [
             [
              0,
              "#0d0887"
             ],
             [
              0.1111111111111111,
              "#46039f"
             ],
             [
              0.2222222222222222,
              "#7201a8"
             ],
             [
              0.3333333333333333,
              "#9c179e"
             ],
             [
              0.4444444444444444,
              "#bd3786"
             ],
             [
              0.5555555555555556,
              "#d8576b"
             ],
             [
              0.6666666666666666,
              "#ed7953"
             ],
             [
              0.7777777777777778,
              "#fb9f3a"
             ],
             [
              0.8888888888888888,
              "#fdca26"
             ],
             [
              1,
              "#f0f921"
             ]
            ],
            "type": "surface"
           }
          ],
          "table": [
           {
            "cells": {
             "fill": {
              "color": "#EBF0F8"
             },
             "line": {
              "color": "white"
             }
            },
            "header": {
             "fill": {
              "color": "#C8D4E3"
             },
             "line": {
              "color": "white"
             }
            },
            "type": "table"
           }
          ]
         },
         "layout": {
          "annotationdefaults": {
           "arrowcolor": "#2a3f5f",
           "arrowhead": 0,
           "arrowwidth": 1
          },
          "coloraxis": {
           "colorbar": {
            "outlinewidth": 0,
            "ticks": ""
           }
          },
          "colorscale": {
           "diverging": [
            [
             0,
             "#8e0152"
            ],
            [
             0.1,
             "#c51b7d"
            ],
            [
             0.2,
             "#de77ae"
            ],
            [
             0.3,
             "#f1b6da"
            ],
            [
             0.4,
             "#fde0ef"
            ],
            [
             0.5,
             "#f7f7f7"
            ],
            [
             0.6,
             "#e6f5d0"
            ],
            [
             0.7,
             "#b8e186"
            ],
            [
             0.8,
             "#7fbc41"
            ],
            [
             0.9,
             "#4d9221"
            ],
            [
             1,
             "#276419"
            ]
           ],
           "sequential": [
            [
             0,
             "#0d0887"
            ],
            [
             0.1111111111111111,
             "#46039f"
            ],
            [
             0.2222222222222222,
             "#7201a8"
            ],
            [
             0.3333333333333333,
             "#9c179e"
            ],
            [
             0.4444444444444444,
             "#bd3786"
            ],
            [
             0.5555555555555556,
             "#d8576b"
            ],
            [
             0.6666666666666666,
             "#ed7953"
            ],
            [
             0.7777777777777778,
             "#fb9f3a"
            ],
            [
             0.8888888888888888,
             "#fdca26"
            ],
            [
             1,
             "#f0f921"
            ]
           ],
           "sequentialminus": [
            [
             0,
             "#0d0887"
            ],
            [
             0.1111111111111111,
             "#46039f"
            ],
            [
             0.2222222222222222,
             "#7201a8"
            ],
            [
             0.3333333333333333,
             "#9c179e"
            ],
            [
             0.4444444444444444,
             "#bd3786"
            ],
            [
             0.5555555555555556,
             "#d8576b"
            ],
            [
             0.6666666666666666,
             "#ed7953"
            ],
            [
             0.7777777777777778,
             "#fb9f3a"
            ],
            [
             0.8888888888888888,
             "#fdca26"
            ],
            [
             1,
             "#f0f921"
            ]
           ]
          },
          "colorway": [
           "#636efa",
           "#EF553B",
           "#00cc96",
           "#ab63fa",
           "#FFA15A",
           "#19d3f3",
           "#FF6692",
           "#B6E880",
           "#FF97FF",
           "#FECB52"
          ],
          "font": {
           "color": "#2a3f5f"
          },
          "geo": {
           "bgcolor": "white",
           "lakecolor": "white",
           "landcolor": "#E5ECF6",
           "showlakes": true,
           "showland": true,
           "subunitcolor": "white"
          },
          "hoverlabel": {
           "align": "left"
          },
          "hovermode": "closest",
          "mapbox": {
           "style": "light"
          },
          "paper_bgcolor": "white",
          "plot_bgcolor": "#E5ECF6",
          "polar": {
           "angularaxis": {
            "gridcolor": "white",
            "linecolor": "white",
            "ticks": ""
           },
           "bgcolor": "#E5ECF6",
           "radialaxis": {
            "gridcolor": "white",
            "linecolor": "white",
            "ticks": ""
           }
          },
          "scene": {
           "xaxis": {
            "backgroundcolor": "#E5ECF6",
            "gridcolor": "white",
            "gridwidth": 2,
            "linecolor": "white",
            "showbackground": true,
            "ticks": "",
            "zerolinecolor": "white"
           },
           "yaxis": {
            "backgroundcolor": "#E5ECF6",
            "gridcolor": "white",
            "gridwidth": 2,
            "linecolor": "white",
            "showbackground": true,
            "ticks": "",
            "zerolinecolor": "white"
           },
           "zaxis": {
            "backgroundcolor": "#E5ECF6",
            "gridcolor": "white",
            "gridwidth": 2,
            "linecolor": "white",
            "showbackground": true,
            "ticks": "",
            "zerolinecolor": "white"
           }
          },
          "shapedefaults": {
           "line": {
            "color": "#2a3f5f"
           }
          },
          "ternary": {
           "aaxis": {
            "gridcolor": "white",
            "linecolor": "white",
            "ticks": ""
           },
           "baxis": {
            "gridcolor": "white",
            "linecolor": "white",
            "ticks": ""
           },
           "bgcolor": "#E5ECF6",
           "caxis": {
            "gridcolor": "white",
            "linecolor": "white",
            "ticks": ""
           }
          },
          "title": {
           "x": 0.05
          },
          "xaxis": {
           "automargin": true,
           "gridcolor": "white",
           "linecolor": "white",
           "ticks": "",
           "title": {
            "standoff": 15
           },
           "zerolinecolor": "white",
           "zerolinewidth": 2
          },
          "yaxis": {
           "automargin": true,
           "gridcolor": "white",
           "linecolor": "white",
           "ticks": "",
           "title": {
            "standoff": 15
           },
           "zerolinecolor": "white",
           "zerolinewidth": 2
          }
         }
        }
       }
      },
      "text/html": [
       "<div>\n",
       "        \n",
       "        \n",
       "            <div id=\"c0a1b959-f31d-42cf-a625-5fdf67052016\" class=\"plotly-graph-div\" style=\"height:525px; width:100%;\"></div>\n",
       "            <script type=\"text/javascript\">\n",
       "                require([\"plotly\"], function(Plotly) {\n",
       "                    window.PLOTLYENV=window.PLOTLYENV || {};\n",
       "                    \n",
       "                if (document.getElementById(\"c0a1b959-f31d-42cf-a625-5fdf67052016\")) {\n",
       "                    Plotly.newPlot(\n",
       "                        'c0a1b959-f31d-42cf-a625-5fdf67052016',\n",
       "                        [{\"name\": \"arts_entertainment\", \"type\": \"bar\", \"x\": [0, 1, 2, 3], \"y\": [0.17094017094017094, 5.0, 3.104532813114214, 5.185185185185185]}, {\"name\": \"building\", \"type\": \"bar\", \"x\": [0, 1, 2, 3], \"y\": [2.857982374236244, 5.0, 3.0177673775145246, 2.954144620811287]}, {\"name\": \"education\", \"type\": \"bar\", \"x\": [0, 1, 2, 3], \"y\": [0.3703703703703704, 0.0, 0.018867924528301886, 5.555555555555555]}, {\"name\": \"food\", \"type\": \"bar\", \"x\": [0, 1, 2, 3], \"y\": [27.319892869428468, 5.0, 61.665655290787605, 16.98783469616803]}, {\"name\": \"nightlife\", \"type\": \"bar\", \"x\": [0, 1, 2, 3], \"y\": [2.881403273560136, 0.0, 5.885203183098703, 4.44023569023569]}, {\"name\": \"parks_outdoors\", \"type\": \"bar\", \"x\": [0, 1, 2, 3], \"y\": [4.235892437646823, 76.66666666666666, 4.263918434322875, 30.626703543370205]}, {\"name\": \"shops\", \"type\": \"bar\", \"x\": [0, 1, 2, 3], \"y\": [59.70231742419565, 0.0, 17.558047746399332, 25.32046657046657]}, {\"name\": \"travel\", \"type\": \"bar\", \"x\": [0, 1, 2, 3], \"y\": [2.461201079622132, 8.333333333333332, 4.4860072302344545, 8.92987413820747]}],\n",
       "                        {\"barmode\": \"stack\", \"template\": {\"data\": {\"bar\": [{\"error_x\": {\"color\": \"#2a3f5f\"}, \"error_y\": {\"color\": \"#2a3f5f\"}, \"marker\": {\"line\": {\"color\": \"#E5ECF6\", \"width\": 0.5}}, \"type\": \"bar\"}], \"barpolar\": [{\"marker\": {\"line\": {\"color\": \"#E5ECF6\", \"width\": 0.5}}, \"type\": \"barpolar\"}], \"carpet\": [{\"aaxis\": {\"endlinecolor\": \"#2a3f5f\", \"gridcolor\": \"white\", \"linecolor\": \"white\", \"minorgridcolor\": \"white\", \"startlinecolor\": \"#2a3f5f\"}, \"baxis\": {\"endlinecolor\": \"#2a3f5f\", \"gridcolor\": \"white\", \"linecolor\": \"white\", \"minorgridcolor\": \"white\", \"startlinecolor\": \"#2a3f5f\"}, \"type\": \"carpet\"}], \"choropleth\": [{\"colorbar\": {\"outlinewidth\": 0, \"ticks\": \"\"}, \"type\": \"choropleth\"}], \"contour\": [{\"colorbar\": {\"outlinewidth\": 0, \"ticks\": \"\"}, \"colorscale\": [[0.0, \"#0d0887\"], [0.1111111111111111, \"#46039f\"], [0.2222222222222222, \"#7201a8\"], [0.3333333333333333, \"#9c179e\"], [0.4444444444444444, \"#bd3786\"], [0.5555555555555556, \"#d8576b\"], [0.6666666666666666, \"#ed7953\"], [0.7777777777777778, \"#fb9f3a\"], [0.8888888888888888, \"#fdca26\"], [1.0, \"#f0f921\"]], \"type\": \"contour\"}], \"contourcarpet\": [{\"colorbar\": {\"outlinewidth\": 0, \"ticks\": \"\"}, \"type\": \"contourcarpet\"}], \"heatmap\": [{\"colorbar\": {\"outlinewidth\": 0, \"ticks\": \"\"}, \"colorscale\": [[0.0, \"#0d0887\"], [0.1111111111111111, \"#46039f\"], [0.2222222222222222, \"#7201a8\"], [0.3333333333333333, \"#9c179e\"], [0.4444444444444444, \"#bd3786\"], [0.5555555555555556, \"#d8576b\"], [0.6666666666666666, \"#ed7953\"], [0.7777777777777778, \"#fb9f3a\"], [0.8888888888888888, \"#fdca26\"], [1.0, \"#f0f921\"]], \"type\": \"heatmap\"}], \"heatmapgl\": [{\"colorbar\": {\"outlinewidth\": 0, \"ticks\": \"\"}, \"colorscale\": [[0.0, \"#0d0887\"], [0.1111111111111111, \"#46039f\"], [0.2222222222222222, \"#7201a8\"], [0.3333333333333333, \"#9c179e\"], [0.4444444444444444, \"#bd3786\"], [0.5555555555555556, \"#d8576b\"], [0.6666666666666666, \"#ed7953\"], [0.7777777777777778, \"#fb9f3a\"], [0.8888888888888888, \"#fdca26\"], [1.0, \"#f0f921\"]], \"type\": \"heatmapgl\"}], \"histogram\": [{\"marker\": {\"colorbar\": {\"outlinewidth\": 0, \"ticks\": \"\"}}, \"type\": \"histogram\"}], \"histogram2d\": [{\"colorbar\": {\"outlinewidth\": 0, \"ticks\": \"\"}, \"colorscale\": [[0.0, \"#0d0887\"], [0.1111111111111111, \"#46039f\"], [0.2222222222222222, \"#7201a8\"], [0.3333333333333333, \"#9c179e\"], [0.4444444444444444, \"#bd3786\"], [0.5555555555555556, \"#d8576b\"], [0.6666666666666666, \"#ed7953\"], [0.7777777777777778, \"#fb9f3a\"], [0.8888888888888888, \"#fdca26\"], [1.0, \"#f0f921\"]], \"type\": \"histogram2d\"}], \"histogram2dcontour\": [{\"colorbar\": {\"outlinewidth\": 0, \"ticks\": \"\"}, \"colorscale\": [[0.0, \"#0d0887\"], [0.1111111111111111, \"#46039f\"], [0.2222222222222222, \"#7201a8\"], [0.3333333333333333, \"#9c179e\"], [0.4444444444444444, \"#bd3786\"], [0.5555555555555556, \"#d8576b\"], [0.6666666666666666, \"#ed7953\"], [0.7777777777777778, \"#fb9f3a\"], [0.8888888888888888, \"#fdca26\"], [1.0, \"#f0f921\"]], \"type\": \"histogram2dcontour\"}], \"mesh3d\": [{\"colorbar\": {\"outlinewidth\": 0, \"ticks\": \"\"}, \"type\": \"mesh3d\"}], \"parcoords\": [{\"line\": {\"colorbar\": {\"outlinewidth\": 0, \"ticks\": \"\"}}, \"type\": \"parcoords\"}], \"pie\": [{\"automargin\": true, \"type\": \"pie\"}], \"scatter\": [{\"marker\": {\"colorbar\": {\"outlinewidth\": 0, \"ticks\": \"\"}}, \"type\": \"scatter\"}], \"scatter3d\": [{\"line\": {\"colorbar\": {\"outlinewidth\": 0, \"ticks\": \"\"}}, \"marker\": {\"colorbar\": {\"outlinewidth\": 0, \"ticks\": \"\"}}, \"type\": \"scatter3d\"}], \"scattercarpet\": [{\"marker\": {\"colorbar\": {\"outlinewidth\": 0, \"ticks\": \"\"}}, \"type\": \"scattercarpet\"}], \"scattergeo\": [{\"marker\": {\"colorbar\": {\"outlinewidth\": 0, \"ticks\": \"\"}}, \"type\": \"scattergeo\"}], \"scattergl\": [{\"marker\": {\"colorbar\": {\"outlinewidth\": 0, \"ticks\": \"\"}}, \"type\": \"scattergl\"}], \"scattermapbox\": [{\"marker\": {\"colorbar\": {\"outlinewidth\": 0, \"ticks\": \"\"}}, \"type\": \"scattermapbox\"}], \"scatterpolar\": [{\"marker\": {\"colorbar\": {\"outlinewidth\": 0, \"ticks\": \"\"}}, \"type\": \"scatterpolar\"}], \"scatterpolargl\": [{\"marker\": {\"colorbar\": {\"outlinewidth\": 0, \"ticks\": \"\"}}, \"type\": \"scatterpolargl\"}], \"scatterternary\": [{\"marker\": {\"colorbar\": {\"outlinewidth\": 0, \"ticks\": \"\"}}, \"type\": \"scatterternary\"}], \"surface\": [{\"colorbar\": {\"outlinewidth\": 0, \"ticks\": \"\"}, \"colorscale\": [[0.0, \"#0d0887\"], [0.1111111111111111, \"#46039f\"], [0.2222222222222222, \"#7201a8\"], [0.3333333333333333, \"#9c179e\"], [0.4444444444444444, \"#bd3786\"], [0.5555555555555556, \"#d8576b\"], [0.6666666666666666, \"#ed7953\"], [0.7777777777777778, \"#fb9f3a\"], [0.8888888888888888, \"#fdca26\"], [1.0, \"#f0f921\"]], \"type\": \"surface\"}], \"table\": [{\"cells\": {\"fill\": {\"color\": \"#EBF0F8\"}, \"line\": {\"color\": \"white\"}}, \"header\": {\"fill\": {\"color\": \"#C8D4E3\"}, \"line\": {\"color\": \"white\"}}, \"type\": \"table\"}]}, \"layout\": {\"annotationdefaults\": {\"arrowcolor\": \"#2a3f5f\", \"arrowhead\": 0, \"arrowwidth\": 1}, \"coloraxis\": {\"colorbar\": {\"outlinewidth\": 0, \"ticks\": \"\"}}, \"colorscale\": {\"diverging\": [[0, \"#8e0152\"], [0.1, \"#c51b7d\"], [0.2, \"#de77ae\"], [0.3, \"#f1b6da\"], [0.4, \"#fde0ef\"], [0.5, \"#f7f7f7\"], [0.6, \"#e6f5d0\"], [0.7, \"#b8e186\"], [0.8, \"#7fbc41\"], [0.9, \"#4d9221\"], [1, \"#276419\"]], \"sequential\": [[0.0, \"#0d0887\"], [0.1111111111111111, \"#46039f\"], [0.2222222222222222, \"#7201a8\"], [0.3333333333333333, \"#9c179e\"], [0.4444444444444444, \"#bd3786\"], [0.5555555555555556, \"#d8576b\"], [0.6666666666666666, \"#ed7953\"], [0.7777777777777778, \"#fb9f3a\"], [0.8888888888888888, \"#fdca26\"], [1.0, \"#f0f921\"]], \"sequentialminus\": [[0.0, \"#0d0887\"], [0.1111111111111111, \"#46039f\"], [0.2222222222222222, \"#7201a8\"], [0.3333333333333333, \"#9c179e\"], [0.4444444444444444, \"#bd3786\"], [0.5555555555555556, \"#d8576b\"], [0.6666666666666666, \"#ed7953\"], [0.7777777777777778, \"#fb9f3a\"], [0.8888888888888888, \"#fdca26\"], [1.0, \"#f0f921\"]]}, \"colorway\": [\"#636efa\", \"#EF553B\", \"#00cc96\", \"#ab63fa\", \"#FFA15A\", \"#19d3f3\", \"#FF6692\", \"#B6E880\", \"#FF97FF\", \"#FECB52\"], \"font\": {\"color\": \"#2a3f5f\"}, \"geo\": {\"bgcolor\": \"white\", \"lakecolor\": \"white\", \"landcolor\": \"#E5ECF6\", \"showlakes\": true, \"showland\": true, \"subunitcolor\": \"white\"}, \"hoverlabel\": {\"align\": \"left\"}, \"hovermode\": \"closest\", \"mapbox\": {\"style\": \"light\"}, \"paper_bgcolor\": \"white\", \"plot_bgcolor\": \"#E5ECF6\", \"polar\": {\"angularaxis\": {\"gridcolor\": \"white\", \"linecolor\": \"white\", \"ticks\": \"\"}, \"bgcolor\": \"#E5ECF6\", \"radialaxis\": {\"gridcolor\": \"white\", \"linecolor\": \"white\", \"ticks\": \"\"}}, \"scene\": {\"xaxis\": {\"backgroundcolor\": \"#E5ECF6\", \"gridcolor\": \"white\", \"gridwidth\": 2, \"linecolor\": \"white\", \"showbackground\": true, \"ticks\": \"\", \"zerolinecolor\": \"white\"}, \"yaxis\": {\"backgroundcolor\": \"#E5ECF6\", \"gridcolor\": \"white\", \"gridwidth\": 2, \"linecolor\": \"white\", \"showbackground\": true, \"ticks\": \"\", \"zerolinecolor\": \"white\"}, \"zaxis\": {\"backgroundcolor\": \"#E5ECF6\", \"gridcolor\": \"white\", \"gridwidth\": 2, \"linecolor\": \"white\", \"showbackground\": true, \"ticks\": \"\", \"zerolinecolor\": \"white\"}}, \"shapedefaults\": {\"line\": {\"color\": \"#2a3f5f\"}}, \"ternary\": {\"aaxis\": {\"gridcolor\": \"white\", \"linecolor\": \"white\", \"ticks\": \"\"}, \"baxis\": {\"gridcolor\": \"white\", \"linecolor\": \"white\", \"ticks\": \"\"}, \"bgcolor\": \"#E5ECF6\", \"caxis\": {\"gridcolor\": \"white\", \"linecolor\": \"white\", \"ticks\": \"\"}}, \"title\": {\"x\": 0.05}, \"xaxis\": {\"automargin\": true, \"gridcolor\": \"white\", \"linecolor\": \"white\", \"ticks\": \"\", \"title\": {\"standoff\": 15}, \"zerolinecolor\": \"white\", \"zerolinewidth\": 2}, \"yaxis\": {\"automargin\": true, \"gridcolor\": \"white\", \"linecolor\": \"white\", \"ticks\": \"\", \"title\": {\"standoff\": 15}, \"zerolinecolor\": \"white\", \"zerolinewidth\": 2}}}},\n",
       "                        {\"responsive\": true}\n",
       "                    ).then(function(){\n",
       "                            \n",
       "var gd = document.getElementById('c0a1b959-f31d-42cf-a625-5fdf67052016');\n",
       "var x = new MutationObserver(function (mutations, observer) {{\n",
       "        var display = window.getComputedStyle(gd).display;\n",
       "        if (!display || display === 'none') {{\n",
       "            console.log([gd, 'removed!']);\n",
       "            Plotly.purge(gd);\n",
       "            observer.disconnect();\n",
       "        }}\n",
       "}});\n",
       "\n",
       "// Listen for the removal of the full notebook cells\n",
       "var notebookContainer = gd.closest('#notebook-container');\n",
       "if (notebookContainer) {{\n",
       "    x.observe(notebookContainer, {childList: true});\n",
       "}}\n",
       "\n",
       "// Listen for the clearing of the current output cell\n",
       "var outputEl = gd.closest('.output');\n",
       "if (outputEl) {{\n",
       "    x.observe(outputEl, {childList: true});\n",
       "}}\n",
       "\n",
       "                        })\n",
       "                };\n",
       "                });\n",
       "            </script>\n",
       "        </div>"
      ]
     },
     "metadata": {},
     "output_type": "display_data"
    }
   ],
   "source": [
    "import plotly.graph_objects as go\n",
    "clusters = temp.index.tolist()\n",
    "bars = [\n",
    "    go.Bar(name=i, x=clusters, y=temp[i].tolist())\n",
    "    for i in temp.columns\n",
    "]\n",
    "fig = go.Figure(data=bars)\n",
    "fig.update_layout(barmode='stack')\n",
    "fig.show()"
   ]
  },
  {
   "cell_type": "markdown",
   "metadata": {},
   "source": [
    "From this graph we can understand the composition of the clusters:\n",
    "\n",
    "The first cluster has a lot of shops\n",
    "\n",
    "The second cluster has a large amount of parks\n",
    "\n",
    "The third one is when you are really hungry\n",
    "\n",
    "The fourth one is the most balanced one, with some level of food, shops, nightlife, arts, entertainment, and parks."
   ]
  },
  {
   "cell_type": "code",
   "execution_count": 111,
   "metadata": {},
   "outputs": [
    {
     "data": {
      "text/html": [
       "<div style=\"width:100%;\"><div style=\"position:relative;width:100%;height:0;padding-bottom:60%;\"><iframe src=\"about:blank\" style=\"position:absolute;width:100%;height:100%;left:0;top:0;border:none !important;\" data-html=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 onload=\"this.contentDocument.open();this.contentDocument.write(atob(this.getAttribute('data-html')));this.contentDocument.close();\" allowfullscreen webkitallowfullscreen mozallowfullscreen></iframe></div></div>"
      ],
      "text/plain": [
       "<folium.folium.Map at 0x225e5f203c8>"
      ]
     },
     "execution_count": 111,
     "metadata": {},
     "output_type": "execute_result"
    }
   ],
   "source": [
    "# create map\n",
    "K = df['Cluster Labels'].unique()\n",
    "map_clusters = folium.Map(location=[c_latitude, c_longitude], zoom_start=10)\n",
    "\n",
    "# set color scheme for the clusters\n",
    "x = np.arange(len(K))\n",
    "colors = {\n",
    "    'Cluster 0': 'green',\n",
    "    'Cluster 1': 'yellow',\n",
    "    'Cluster 2': 'red',\n",
    "    'Cluster 3': 'blue',\n",
    "    'Cluster NC': 'black',\n",
    "}\n",
    "# add markers to the map\n",
    "markers_colors = []\n",
    "zipped = zip(df['latitude'], df['longitude'], df['Neighborhood'], df['Cluster Labels'])\n",
    "for lat, lon, poi, cluster in zipped:\n",
    "    label = folium.Popup(str(poi) + ' Cluster ' + str(cluster), parse_html=True)\n",
    "    folium.CircleMarker(\n",
    "        [lat, lon],\n",
    "        radius=5,\n",
    "        popup=label,\n",
    "        color=colors[cluster],\n",
    "        fill=True,\n",
    "        fill_color=colors[cluster],\n",
    "        fill_opacity=0.7).add_to(map_clusters)\n",
    "       \n",
    "map_clusters"
   ]
  },
  {
   "cell_type": "markdown",
   "metadata": {},
   "source": [
    "<img src=\"img/capture2.png\"/>"
   ]
  },
  {
   "cell_type": "code",
   "execution_count": null,
   "metadata": {},
   "outputs": [],
   "source": []
  }
 ],
 "metadata": {
  "kernelspec": {
   "display_name": "coursera-capstone",
   "language": "python",
   "name": "coursera-capstone"
  },
  "language_info": {
   "codemirror_mode": {
    "name": "ipython",
    "version": 3
   },
   "file_extension": ".py",
   "mimetype": "text/x-python",
   "name": "python",
   "nbconvert_exporter": "python",
   "pygments_lexer": "ipython3",
   "version": "3.6.10"
  }
 },
 "nbformat": 4,
 "nbformat_minor": 2
}
